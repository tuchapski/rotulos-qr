{
 "cells": [
  {
   "cell_type": "code",
   "execution_count": 2,
   "metadata": {},
   "outputs": [],
   "source": [
    "import os\n",
    "from PIL import Image\n",
    "import matplotlib.pyplot as plt\n",
    "import matplotlib.image as mpimg\n",
    "import numpy as np\n",
    "import random"
   ]
  },
  {
   "cell_type": "code",
   "execution_count": 11,
   "metadata": {},
   "outputs": [
    {
     "data": {
      "text/plain": [
       "' \\nPantone Colors:\\n\\n317 C\\n5455 C\\n524C\\n435 C\\n441 C\\n420 C\\n250 C\\n663 C    \\n442 C Escuro    \\n421 C Escuro\\n427 C\\n'"
      ]
     },
     "execution_count": 11,
     "metadata": {},
     "output_type": "execute_result"
    }
   ],
   "source": [
    "def image_encoder(im_array, border=5, random_seed=88, \n",
    "                  h_steps=1, \n",
    "                  v_steps=1, \n",
    "                  black_level=20, \n",
    "                  white_level=200,\n",
    "                  black_variance=20,\n",
    "                  white_variance=30):\n",
    "    \n",
    "    im_array = im_array\n",
    "    border = border\n",
    "    seed = random_seed\n",
    "    h_steps = h_steps\n",
    "    v_steps = v_steps\n",
    "    random.seed(seed)\n",
    "    \n",
    "    for w in range(1, im_array.shape[0], h_steps):        \n",
    "        for h in range(1, im_array.shape[1], v_steps):\n",
    "            for c in range(im_array.shape[2]):\n",
    "                intensity_b = random.randint(black_level, black_level + black_variance)\n",
    "                intensity_w = random.randint(white_level, white_level + white_variance)\n",
    "                if im_array[w,h,c] < 125:\n",
    "                    im_array[w,h,c] = intensity_b\n",
    "                else:\n",
    "                    im_array[w,h,c] = intensity_w\n",
    "                    \n",
    "    return im_array\n",
    "\n",
    "def magic_encoder(im_array, border=5, \n",
    "                  h_steps=1, \n",
    "                  v_steps=1,\n",
    "                  shuffle = False,\n",
    "                  seed = 188):\n",
    "    seed = 88\n",
    "    im_array = im_array\n",
    "    h_steps = h_steps\n",
    "    v_steps = v_steps\n",
    "    random.seed(seed)\n",
    "    \n",
    "    \n",
    "    for w in range(1, im_array.shape[0], h_steps):\n",
    "        i = random.randint(0, len(magic_colors))\n",
    "        #i = 0\n",
    "        for h in range(1, im_array.shape[1], v_steps):\n",
    "            i += 1\n",
    "            if i >= len(magic_colors): \n",
    "                i = 0\n",
    "            for c in range(im_array.shape[2]):\n",
    "                if im_array[w,h,c] > 128:\n",
    "                    im_array[w,h,c] = magic_colors[i][c]\n",
    "                    \n",
    "    return im_array\n",
    "\n",
    "def img_plotter(image, display=True, fig_size=10, output_folder='encoded_img'):\n",
    "    display = display\n",
    "    image = image\n",
    "    fig_size = fig_size\n",
    "    output_folder = output_folder\n",
    "    if fig_size == None:\n",
    "        imgplot = plt.figure()\n",
    "    else:\n",
    "        imgplot = plt.figure(figsize=(fig_size,fig_size))\n",
    "    imgplot = plt.axis('off')\n",
    "    imgplot = plt.imshow(image)\n",
    "    imgplot = plt.savefig(output_folder, pad_inches=0, bbox_inches='tight')\n",
    "    \n",
    "\n",
    "magic_colors = [[177, 228, 227], [177, 228, 227], \n",
    "                [191, 206, 214], [229, 225, 230],\n",
    "                [213, 194, 216], [193, 178, 182], \n",
    "                [208, 211, 212], [190, 198, 196], \n",
    "                [199, 201, 199], [231, 186, 228]]\n",
    "\n",
    "''' \n",
    "Pantone Colors:\n",
    "\n",
    "317 C\n",
    "5455 C\n",
    "524C\n",
    "435 C\n",
    "441 C\n",
    "420 C\n",
    "250 C\n",
    "663 C    \n",
    "442 C Escuro    \n",
    "421 C Escuro\n",
    "427 C\n",
    "'''"
   ]
  },
  {
   "cell_type": "code",
   "execution_count": 21,
   "metadata": {
    "scrolled": false
   },
   "outputs": [
    {
     "data": {
      "image/png": "[encoded data removed]",
      "text/plain": [
       "<Figure size 432x288 with 1 Axes>"
      ]
     },
     "metadata": {
      "needs_background": "light"
     },
     "output_type": "display_data"
    }
   ],
   "source": [
    "SRC_IMG_PATH = 'qr-files/'\n",
    "DST_IMG_PATH = 'encoded-files/'\n",
    "\n",
    "for image in os.listdir(SRC_IMG_PATH):  \n",
    "    I = np.asarray(Image.open(os.path.join(SRC_IMG_PATH, image)))\n",
    "    I2 = np.copy(I)\n",
    "    if len(I2.shape) <  3:\n",
    "        print('WARNING: Imagem {0} é 2D, skipping!'.format(image))\n",
    "    else: \n",
    "        I2 = magic_encoder(I2, v_steps=1, h_steps=2)\n",
    "        im2 = Image.fromarray(np.uint8(I2))\n",
    "        img_plotter(im2, fig_size=None, output_folder=DST_IMG_PATH+'2x3_'+image)"
   ]
  }
 ],
 "metadata": {
  "kernelspec": {
   "display_name": "Python 3",
   "language": "python",
   "name": "python3"
  },
  "language_info": {
   "codemirror_mode": {
    "name": "ipython",
    "version": 3
   },
   "file_extension": ".py",
   "mimetype": "text/x-python",
   "name": "python",
   "nbconvert_exporter": "python",
   "pygments_lexer": "ipython3",
   "version": "3.7.3"
  }
 },
 "nbformat": 4,
 "nbformat_minor": 2
}
