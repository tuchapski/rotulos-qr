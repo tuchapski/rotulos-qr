{
 "cells": [
  {
   "cell_type": "code",
   "execution_count": 1,
   "metadata": {},
   "outputs": [],
   "source": [
    "import os\n",
    "import fnmatch"
   ]
  },
  {
   "cell_type": "code",
   "execution_count": 9,
   "metadata": {},
   "outputs": [],
   "source": [
    "mydir = os.path.join(\".\", 'encoded-files')"
   ]
  },
  {
   "cell_type": "code",
   "execution_count": 104,
   "metadata": {},
   "outputs": [],
   "source": [
    "class Preprocess:\n",
    "    \n",
    "    def __init__(self, base_dir=None):\n",
    "        self.base_dir = base_dir\n",
    "        if self.base_dir == None:\n",
    "            self.base_dir = os.getcwd()\n",
    "            \n",
    "    def scan_files(self, files_folder='', pattern='*.jpg'):\n",
    "        self.files_folder = os.path.join(self.base_dir, files_folder)\n",
    "        self.pattern = pattern\n",
    "        self.found_files = []\n",
    "        #self.found_files.append(self.files_folder)   \n",
    "        \n",
    "        for self.filename in os.listdir(self.files_folder):\n",
    "            if os.path.isfile(os.path.join(self.files_folder, self.filename)) and fnmatch.fnmatch(self.filename, self.pattern):\n",
    "                self.found_files.append(self.filename)\n",
    "        return self.files_folder, self.found_files        "
   ]
  },
  {
   "cell_type": "code",
   "execution_count": 105,
   "metadata": {},
   "outputs": [],
   "source": [
    "test = Preprocess('C:/Users/tuchapski/Documents/Projetos/')"
   ]
  },
  {
   "cell_type": "code",
   "execution_count": 106,
   "metadata": {},
   "outputs": [
    {
     "data": {
      "text/plain": [
       "('C:/Users/tuchapski/Documents/Projetos/rotulos-qr', ['pantone_chart.jpg'])"
      ]
     },
     "execution_count": 106,
     "metadata": {},
     "output_type": "execute_result"
    }
   ],
   "source": [
    "test.scan_files('rotulos-qr')"
   ]
  }
 ],
 "metadata": {
  "kernelspec": {
   "display_name": "Python 3",
   "language": "python",
   "name": "python3"
  },
  "language_info": {
   "codemirror_mode": {
    "name": "ipython",
    "version": 3
   },
   "file_extension": ".py",
   "mimetype": "text/x-python",
   "name": "python",
   "nbconvert_exporter": "python",
   "pygments_lexer": "ipython3",
   "version": "3.7.3"
  }
 },
 "nbformat": 4,
 "nbformat_minor": 2
}
